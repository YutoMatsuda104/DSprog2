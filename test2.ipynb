{
 "cells": [
  {
   "cell_type": "code",
   "execution_count": 10,
   "metadata": {},
   "outputs": [],
   "source": [
    "import numpy as np\n",
    "import sqlite3"
   ]
  },
  {
   "cell_type": "code",
   "execution_count": 11,
   "metadata": {},
   "outputs": [],
   "source": [
    "path = '/Users/yutomatsuda/Lecture/DSProg2/database/'\n",
    "\n",
    "# DBファイル名\n",
    "db_name = 'test.sqlite'\n",
    "\n",
    "# DBに接続する（指定したDBファイル存在しない場合は，新規に作成される）\n",
    "con = sqlite3.connect(path + db_name)"
   ]
  },
  {
   "cell_type": "code",
   "execution_count": 12,
   "metadata": {},
   "outputs": [],
   "source": [
    "# 2．SQLを実行するためのオブジェクトを取得\n",
    "cur = con.cursor()"
   ]
  },
  {
   "cell_type": "code",
   "execution_count": 14,
   "metadata": {},
   "outputs": [
    {
     "ename": "OperationalError",
     "evalue": "table Keiba_local already exists",
     "output_type": "error",
     "traceback": [
      "\u001b[0;31m---------------------------------------------------------------------------\u001b[0m",
      "\u001b[0;31mOperationalError\u001b[0m                          Traceback (most recent call last)",
      "Cell \u001b[0;32mIn[14], line 7\u001b[0m\n\u001b[1;32m      4\u001b[0m sql_create_table_DSprogHW \u001b[38;5;241m=\u001b[39m \u001b[38;5;124m'\u001b[39m\u001b[38;5;124mCREATE TABLE Keiba_local(house_name text, first_pred real, second_pred real, third_pred real);\u001b[39m\u001b[38;5;124m'\u001b[39m\n\u001b[1;32m      6\u001b[0m \u001b[38;5;66;03m# 4．SQLを実行する\u001b[39;00m\n\u001b[0;32m----> 7\u001b[0m \u001b[43mcur\u001b[49m\u001b[38;5;241;43m.\u001b[39;49m\u001b[43mexecute\u001b[49m\u001b[43m(\u001b[49m\u001b[43msql_create_table_DSprogHW\u001b[49m\u001b[43m)\u001b[49m\n",
      "\u001b[0;31mOperationalError\u001b[0m: table Keiba_local already exists"
     ]
    }
   ],
   "source": [
    "# 3．実行したいSQLを用意する\n",
    "# テーブルを作成するSQL\n",
    "# CREATE TABLE テーブル名（カラム名 型，...）;\n",
    "sql_create_table_DSprogHW = 'CREATE TABLE Keiba_local(house_name text, first_pred real, second_pred real, third_pred real);'\n",
    "\n",
    "# 4．SQLを実行する\n",
    "cur.execute(sql_create_table_DSprogHW)"
   ]
  },
  {
   "cell_type": "code",
   "execution_count": null,
   "metadata": {},
   "outputs": [],
   "source": [
    "# カーソルを取得\n",
    "cur = con.cursor()\n",
    "\n",
    "# データを挿入するSQL文を作成\n",
    "sql_insert_data = '''\n",
    "INSERT INTO Keiba_local (house_name, first_pred, second_pred, third_pred)\n",
    "VALUES (?, ?, ?, ?);\n",
    "'''\n",
    "\n",
    "# 挿入したいデータ\n",
    "data_to_insert = [\n",
    "    (\"ソールオリエンス\", 1, 5, 4),\n",
    "    (\"シャフリヤール\", 0, 2, 2),\n",
    "    (\"ホウホウエミーズ\", 1, 0, 0),\n",
    "    (\"タイトルホルダー\", 4, 4, 10),\n",
    "    (\"ドウドゥース\", 3, 3, 7),\n",
    "    (\"ディープポンド\", 4, 4, 4),\n",
    "    (\"アイアンバローズ\", 0, 2, 1),\n",
    "    (\"ライラック\", 1, 1, 1),\n",
    "    (\"ヒートオンビート\", 0, 0, 1),\n",
    "    (\"ジャスティンパレス\", 9, 7, 6),\n",
    "    (\"ハーパー\", 0, 2, 0),\n",
    "    (\"ウインマリリン\", 1, 1, 3),\n",
    "    (\"タスティエーラ\", 3, 6, 9),\n",
    "    (\"プラダリア\", 1, 1, 2),\n",
    "    (\"スルーセブンシーズ\", 2, 3, 4),\n",
    "    (\"スターズオンアース\", 6, 12, 6),\n",
    "]\n",
    "\n",
    "# 各データ行をデータベースに挿入\n",
    "for data in data_to_insert:\n",
    "    cur.execute(sql_insert_data, data)\n",
    "\n",
    "# 変更をコミット\n",
    "con.commit()\n",
    "\n",
    "# データベース接続を閉じる\n",
    "con.close()"
   ]
  },
  {
   "cell_type": "code",
   "execution_count": 15,
   "metadata": {},
   "outputs": [
    {
     "name": "stdout",
     "output_type": "stream",
     "text": [
      "('ソールオリエンス', 1.0, 5.0, 4.0)\n",
      "('シャフリヤール', 0.0, 2.0, 2.0)\n",
      "('ホウホウエミーズ', 1.0, 0.0, 0.0)\n",
      "('タイトルホルダー', 4.0, 4.0, 10.0)\n",
      "('ドウドゥース', 3.0, 3.0, 7.0)\n",
      "('ディープポンド', 4.0, 4.0, 4.0)\n",
      "('アイアンバローズ', 0.0, 2.0, 1.0)\n",
      "('ライラック', 1.0, 1.0, 1.0)\n",
      "('ヒートオンビート', 0.0, 0.0, 1.0)\n",
      "('ジャスティンパレス', 9.0, 7.0, 6.0)\n",
      "('ハーパー', 0.0, 2.0, 0.0)\n",
      "('ウインマリリン', 1.0, 1.0, 3.0)\n",
      "('タスティエーラ', 3.0, 6.0, 9.0)\n",
      "('プラダリア', 1.0, 1.0, 2.0)\n",
      "('スルーセブンシーズ', 2.0, 3.0, 4.0)\n",
      "('スターズオンアース', 6.0, 12.0, 6.0)\n"
     ]
    }
   ],
   "source": [
    "# 再度データベースに接続\n",
    "con = sqlite3.connect(path + db_name)\n",
    "cur = con.cursor()\n",
    "\n",
    "# テーブルからすべてのデータを選択するSQL文を作成\n",
    "sql_select_all = 'SELECT * FROM Keiba_local;'\n",
    "\n",
    "# SQLクエリを実行\n",
    "cur.execute(sql_select_all)\n",
    "\n",
    "# 結果を取得\n",
    "all_data = cur.fetchall()\n",
    "\n",
    "# 結果を表示\n",
    "for row in all_data:\n",
    "    print(row)\n",
    "\n",
    "# データベース接続を閉じる\n",
    "con.close()"
   ]
  },
  {
   "cell_type": "code",
   "execution_count": 22,
   "metadata": {},
   "outputs": [
    {
     "name": "stdout",
     "output_type": "stream",
     "text": [
      "horse_local.csv にデータが書き出されました。\n"
     ]
    }
   ],
   "source": [
    "import pandas as pd\n",
    "import sqlite3\n",
    "\n",
    "# データベースへのパスとデータベース名\n",
    "path = '/Users/yutomatsuda/Lecture/DSProg2/database/'\n",
    "db_name = 'test.sqlite'\n",
    "\n",
    "# データベースに接続\n",
    "con = sqlite3.connect(path + db_name)\n",
    "\n",
    "# テーブルからすべてのデータを選択するSQL文を作成\n",
    "sql_select_all = 'SELECT * FROM Keiba_local;'\n",
    "\n",
    "# Pandasを使用してSQLクエリの結果をデータフレームに読み込む\n",
    "df = pd.read_sql_query(sql_select_all, con)\n",
    "\n",
    "# データベース接続を閉じる\n",
    "con.close()\n",
    "\n",
    "# CSVファイル名\n",
    "csv_file_name = 'horse_local.csv'  \n",
    "\n",
    "# CSVファイルを書き出し\n",
    "df.to_csv(csv_file_name, index=False, encoding='utf-8-sig')\n",
    "\n",
    "print(f'{csv_file_name} にデータが書き出されました。')\n"
   ]
  },
  {
   "cell_type": "code",
   "execution_count": null,
   "metadata": {},
   "outputs": [],
   "source": []
  }
 ],
 "metadata": {
  "kernelspec": {
   "display_name": ".venv",
   "language": "python",
   "name": "python3"
  },
  "language_info": {
   "codemirror_mode": {
    "name": "ipython",
    "version": 3
   },
   "file_extension": ".py",
   "mimetype": "text/x-python",
   "name": "python",
   "nbconvert_exporter": "python",
   "pygments_lexer": "ipython3",
   "version": "3.9.6"
  }
 },
 "nbformat": 4,
 "nbformat_minor": 2
}
